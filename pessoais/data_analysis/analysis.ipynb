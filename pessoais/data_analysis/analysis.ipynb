{
 "cells": [
  {
   "cell_type": "code",
   "execution_count": null,
   "metadata": {},
   "outputs": [],
   "source": [
    "#Projeto desenvolvida utilizando as aulas da Hashtag Treinamentos\n",
    "#Project developed using Hashtag Trainings classes\n",
    "\n",
    "import pandas as pd\n",
    "\n",
    "tabela = pd.read_csv(\"C:/Users/thiag/Projetos/data_analysis/cancelamentos_sample.csv\")\n",
    "display(tabela)"
   ]
  },
  {
   "cell_type": "code",
   "execution_count": null,
   "metadata": {},
   "outputs": [],
   "source": [
    "#Remoção da coluna que não agregará na análise de dados\n",
    "#Removing the column that will not be added to data analysis\n",
    "tabela = tabela.drop(columns=\"CustomerID\")\n",
    "#Remoção das linhas com informações vazias\n",
    "#Removing lines with empty information\n",
    "tabela = tabela.dropna()\n",
    "\n",
    "display(tabela)"
   ]
  },
  {
   "cell_type": "code",
   "execution_count": null,
   "metadata": {},
   "outputs": [],
   "source": [
    "#Contagem das pessoas que cancelaram ou não a assinatura\n",
    "#Count of people who canceled their subscription or not\n",
    "display(tabela[\"cancelou\"].value_counts())\n",
    "#Proporção da contagem de pessoas \n",
    "#Proportion of people count \n",
    "display(tabela[\"cancelou\"].value_counts(normalize=True))\n",
    "#Valor em porcentagem\n",
    "#Value in porcent\n",
    "display(tabela[\"cancelou\"].value_counts(normalize=True).map(\"{:.1%}\".format))"
   ]
  },
  {
   "cell_type": "code",
   "execution_count": null,
   "metadata": {},
   "outputs": [],
   "source": [
    "#Criação de gráficos através da biblioteca plotly\n",
    "#Creation of graphs using the plotly library\n",
    "\n",
    "import plotly.express as px\n",
    "\n",
    "for coluna in tabela.columns:\n",
    "    grafico = px.histogram(tabela, x=coluna, color=\"cancelou\", text_auto=True)\n",
    "    grafico.show()\n"
   ]
  },
  {
   "cell_type": "code",
   "execution_count": null,
   "metadata": {},
   "outputs": [],
   "source": [
    "#ANÁLISE DOS DADOS - DATA ANALYSIS\n",
    "\n",
    "    #O contrato mensal é cancelado por todos os clientes\n",
    "    #The monthly contract is canceled by all customers\n",
    "\n",
    "    #Clientes que ligam mais do que 4 vezes para o call center, cancelam o contrato\n",
    "    #Customers who call the call center more than 4 times cancel the contract\n",
    "\n",
    "    #Clientes que atrasaram mais de 20 dias, cancelaram o contrato\n",
    "    #Customers who were more than 20 days late canceled the contract\n",
    "\n",
    "#POSSÍVEIS SOLUÇÕES - POSSIBLE SOLUTIONS\n",
    "\n",
    "    #Desconto nos planos anuais e trimestrais\n",
    "    #Discount on annual and quarterly plans\n",
    "\n",
    "    #Criar um processo para resolver o problema do cliente em no máximo 3 ligações\n",
    "    #Create a process to resolve the customer's problem in a maximum of 3 calls\n",
    "\n",
    "    #Política de resolver atrasos em até 10 dias \n",
    "    #Policy of resolving delays within 10 days\n",
    "\n",
    "tabela = tabela[tabela[\"duracao_contrato\"]!=\"Monthly\"]\n",
    "tabela = tabela[tabela[\"ligacoes_callcenter\"]<=4]\n",
    "tabela = tabela[tabela[\"dias_atraso\"]<=20]\n",
    "\n",
    "display(tabela[\"cancelou\"].value_counts())\n",
    "display(tabela[\"cancelou\"].value_counts(normalize=True))\n"
   ]
  }
 ],
 "metadata": {
  "kernelspec": {
   "display_name": "Python 3",
   "language": "python",
   "name": "python3"
  },
  "language_info": {
   "codemirror_mode": {
    "name": "ipython",
    "version": 3
   },
   "file_extension": ".py",
   "mimetype": "text/x-python",
   "name": "python",
   "nbconvert_exporter": "python",
   "pygments_lexer": "ipython3",
   "version": "3.12.undefined"
  }
 },
 "nbformat": 4,
 "nbformat_minor": 2
}
